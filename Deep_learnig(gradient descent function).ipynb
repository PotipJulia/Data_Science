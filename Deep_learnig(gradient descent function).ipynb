{
 "cells": [
  {
   "cell_type": "code",
   "execution_count": 158,
   "metadata": {},
   "outputs": [],
   "source": [
    "import numpy as np\n",
    "import pandas as pd\n",
    "import matplotlib.pyplot as plt"
   ]
  },
  {
   "cell_type": "markdown",
   "metadata": {},
   "source": [
    "# Gradient descent function "
   ]
  },
  {
   "cell_type": "code",
   "execution_count": 291,
   "metadata": {},
   "outputs": [],
   "source": [
    "def gradient_descent(input_value, weights, target, learning_rate=0.01, n_iterations=30):\n",
    "    input_value=np.array(input_value)\n",
    "    weights=np.array(weights)\n",
    "    hist_error=[]\n",
    "    for i in range(n_iterations):\n",
    "        prediction=(input_value*weights).sum()\n",
    "        error=prediction-target\n",
    "        slope=2*input_value*error\n",
    "        weights=weights-(learning_rate*slope)\n",
    "        prediction=(input_value*weights).sum()\n",
    "        error=prediction-target\n",
    "        hist_error.append(error)\n",
    "        plt.title('Error')\n",
    "        plt.xlabel('iterations')\n",
    "        plt.ylabel('error value')\n",
    "        plt.plot(hist_error, color='red')\n",
    "        print('Iteration:',i,'Prediction:', prediction,'Error:',error)"
   ]
  },
  {
   "cell_type": "markdown",
   "metadata": {},
   "source": [
    "### Example with 4 input nodes, target value 27"
   ]
  },
  {
   "cell_type": "code",
   "execution_count": 296,
   "metadata": {},
   "outputs": [
    {
     "name": "stdout",
     "output_type": "stream",
     "text": [
      "Iteration: 0 Prediction: 27.3 Error: 0.3000000000000007\n",
      "Iteration: 1 Prediction: 27.090000000000003 Error: 0.09000000000000341\n",
      "Iteration: 2 Prediction: 27.026999999999997 Error: 0.02699999999999747\n",
      "Iteration: 3 Prediction: 27.0081 Error: 0.008099999999998886\n",
      "Iteration: 4 Prediction: 27.00243 Error: 0.0024300000000003763\n",
      "Iteration: 5 Prediction: 27.000729 Error: 0.0007289999999997576\n",
      "Iteration: 6 Prediction: 27.0002187 Error: 0.00021870000000134837\n",
      "Iteration: 7 Prediction: 27.00006561 Error: 6.561000000004924e-05\n",
      "Iteration: 8 Prediction: 27.000019682999994 Error: 1.968299999433043e-05\n",
      "Iteration: 9 Prediction: 27.0000059049 Error: 5.904900000075486e-06\n",
      "Iteration: 10 Prediction: 27.00000177147 Error: 1.7714700000226458e-06\n",
      "Iteration: 11 Prediction: 27.000000531441 Error: 5.314409996515224e-07\n",
      "Iteration: 12 Prediction: 27.0000001594323 Error: 1.5943230025072808e-07\n",
      "Iteration: 13 Prediction: 27.000000047829694 Error: 4.782969398320347e-08\n",
      "Iteration: 14 Prediction: 27.000000014348903 Error: 1.4348902510619155e-08\n",
      "Iteration: 15 Prediction: 27.000000004304674 Error: 4.304673950628057e-09\n",
      "Iteration: 16 Prediction: 27.0000000012914 Error: 1.2914007641029457e-09\n",
      "Iteration: 17 Prediction: 27.00000000038742 Error: 3.874198739595158e-10\n",
      "Iteration: 18 Prediction: 27.000000000116223 Error: 1.1622347528827959e-10\n",
      "Iteration: 19 Prediction: 27.000000000034866 Error: 3.4866332043748116e-11\n",
      "Iteration: 20 Prediction: 27.000000000010456 Error: 1.0455636356709874e-11\n",
      "Iteration: 21 Prediction: 27.00000000000314 Error: 3.140598892059643e-12\n",
      "Iteration: 22 Prediction: 27.000000000000938 Error: 9.379164112033322e-13\n",
      "Iteration: 23 Prediction: 27.00000000000028 Error: 2.8066438062523957e-13\n",
      "Iteration: 24 Prediction: 27.00000000000008 Error: 8.171241461241152e-14\n"
     ]
    },
    {
     "data": {
      "image/png": "[encoded data removed]",
      "text/plain": [
       "<Figure size 432x288 with 1 Axes>"
      ]
     },
     "metadata": {
      "needs_background": "light"
     },
     "output_type": "display_data"
    }
   ],
   "source": [
    "gradient_descent([1,0,3,5],[0,1,1,5],27,learning_rate=0.01,n_iterations=25)"
   ]
  }
 ],
 "metadata": {
  "kernelspec": {
   "display_name": "Python 3",
   "language": "python",
   "name": "python3"
  },
  "language_info": {
   "codemirror_mode": {
    "name": "ipython",
    "version": 3
   },
   "file_extension": ".py",
   "mimetype": "text/x-python",
   "name": "python",
   "nbconvert_exporter": "python",
   "pygments_lexer": "ipython3",
   "version": "3.8.4"
  }
 },
 "nbformat": 4,
 "nbformat_minor": 4
}
