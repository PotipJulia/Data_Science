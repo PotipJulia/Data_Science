{
 "cells": [
  {
   "cell_type": "code",
   "execution_count": 1,
   "metadata": {},
   "outputs": [],
   "source": [
    "import pandas as pd\n",
    "import numpy as np\n",
    "from keras.layers import Input,Dense, Embedding, Flatten, Add, Subtract\n",
    "from keras.models import Model\n",
    "import matplotlib.pyplot as plt\n",
    "from keras.utils.vis_utils import plot_model"
   ]
  },
  {
   "cell_type": "markdown",
   "metadata": {},
   "source": [
    "# Import basketball dataset, create train and test datesets"
   ]
  },
  {
   "cell_type": "code",
   "execution_count": 2,
   "metadata": {
    "scrolled": true
   },
   "outputs": [
    {
     "data": {
      "text/html": [
       "<div>\n",
       "<style scoped>\n",
       "    .dataframe tbody tr th:only-of-type {\n",
       "        vertical-align: middle;\n",
       "    }\n",
       "\n",
       "    .dataframe tbody tr th {\n",
       "        vertical-align: top;\n",
       "    }\n",
       "\n",
       "    .dataframe thead th {\n",
       "        text-align: right;\n",
       "    }\n",
       "</style>\n",
       "<table border=\"1\" class=\"dataframe\">\n",
       "  <thead>\n",
       "    <tr style=\"text-align: right;\">\n",
       "      <th></th>\n",
       "      <th>season</th>\n",
       "      <th>team_1</th>\n",
       "      <th>team_2</th>\n",
       "      <th>home</th>\n",
       "      <th>seed_diff</th>\n",
       "      <th>score_diff</th>\n",
       "      <th>score_1</th>\n",
       "      <th>score_2</th>\n",
       "      <th>won</th>\n",
       "    </tr>\n",
       "  </thead>\n",
       "  <tbody>\n",
       "    <tr>\n",
       "      <th>0</th>\n",
       "      <td>1985</td>\n",
       "      <td>288</td>\n",
       "      <td>73</td>\n",
       "      <td>0</td>\n",
       "      <td>-3</td>\n",
       "      <td>-9</td>\n",
       "      <td>41</td>\n",
       "      <td>50</td>\n",
       "      <td>0</td>\n",
       "    </tr>\n",
       "    <tr>\n",
       "      <th>1</th>\n",
       "      <td>1985</td>\n",
       "      <td>5929</td>\n",
       "      <td>73</td>\n",
       "      <td>0</td>\n",
       "      <td>4</td>\n",
       "      <td>6</td>\n",
       "      <td>61</td>\n",
       "      <td>55</td>\n",
       "      <td>1</td>\n",
       "    </tr>\n",
       "    <tr>\n",
       "      <th>2</th>\n",
       "      <td>1985</td>\n",
       "      <td>9884</td>\n",
       "      <td>73</td>\n",
       "      <td>0</td>\n",
       "      <td>5</td>\n",
       "      <td>-4</td>\n",
       "      <td>59</td>\n",
       "      <td>63</td>\n",
       "      <td>0</td>\n",
       "    </tr>\n",
       "    <tr>\n",
       "      <th>3</th>\n",
       "      <td>1985</td>\n",
       "      <td>73</td>\n",
       "      <td>288</td>\n",
       "      <td>0</td>\n",
       "      <td>3</td>\n",
       "      <td>9</td>\n",
       "      <td>50</td>\n",
       "      <td>41</td>\n",
       "      <td>1</td>\n",
       "    </tr>\n",
       "    <tr>\n",
       "      <th>4</th>\n",
       "      <td>1985</td>\n",
       "      <td>3920</td>\n",
       "      <td>410</td>\n",
       "      <td>0</td>\n",
       "      <td>1</td>\n",
       "      <td>-9</td>\n",
       "      <td>54</td>\n",
       "      <td>63</td>\n",
       "      <td>0</td>\n",
       "    </tr>\n",
       "  </tbody>\n",
       "</table>\n",
       "</div>"
      ],
      "text/plain": [
       "   season  team_1  team_2  home  seed_diff  score_diff  score_1  score_2  won\n",
       "0    1985     288      73     0         -3          -9       41       50    0\n",
       "1    1985    5929      73     0          4           6       61       55    1\n",
       "2    1985    9884      73     0          5          -4       59       63    0\n",
       "3    1985      73     288     0          3           9       50       41    1\n",
       "4    1985    3920     410     0          1          -9       54       63    0"
      ]
     },
     "execution_count": 2,
     "metadata": {},
     "output_type": "execute_result"
    }
   ],
   "source": [
    "games_tourney=pd.read_csv('datasets_495447_920088_games_tourney.csv')\n",
    "games_tourney_train=games_tourney[:3500]\n",
    "games_tourney_test=games_tourney[3500:]\n",
    "games_tourney.head()"
   ]
  },
  {
   "cell_type": "markdown",
   "metadata": {},
   "source": [
    "# Check unique teams"
   ]
  },
  {
   "cell_type": "code",
   "execution_count": 3,
   "metadata": {
    "scrolled": false
   },
   "outputs": [
    {
     "data": {
      "text/plain": [
       "array([   67,   173,   174,   175,   249,   316,   317,   318,   319,\n",
       "         320,   351,   387,   440,   442,   585,   649,   651,   652,\n",
       "         653,   654,   669,   671,   758,   760,   980,   984,  1009,\n",
       "        1010,  1041,  1043,  1044,  1045,  1076,  1077,  1134,  1166,\n",
       "        1167,  1170,  1411,  1475,  1476,  1477,  1478,  1479,  1480,\n",
       "        1611,  1612,  1704,  1705,  1706,  1708,  1738,  1739,  1808,\n",
       "        1810,  1907,  1908,  1909,  1912,  1922,  2076,  2078,  2111,\n",
       "        2112,  2113,  2114,  2145,  2368,  2369,  2370,  2371,  2372,\n",
       "        2471,  2540,  2639,  2706,  2773,  2776,  2777,  2806,  2807,\n",
       "        2808,  2811,  2905,  2910,  2977,  3043,  3159,  3160,  3162,\n",
       "        3196,  3230,  3295,  3296,  3297,  3298,  3299,  3300,  3360,\n",
       "        3361,  3431,  3432,  3433,  3434,  3469,  3556,  3773,  3845,\n",
       "        3846,  3848,  3849,  3914,  3917,  3918,  3949,  3950,  3951,\n",
       "        3982,  3983,  3984,  3985,  3986,  4113,  4143,  4176,  4177,\n",
       "        4178,  4179,  4180,  4181,  4210,  4211,  4212,  4215,  4262,\n",
       "        4291,  4293,  4294,  4295,  4296,  4326,  4362,  4393,  4427,\n",
       "        4458,  4507,  4542,  4623,  4624,  4625,  4626,  4628,  4691,\n",
       "        4762,  4834,  4835,  4900,  4901,  4905,  4971,  4972,  4973,\n",
       "        5004,  5104,  5105,  5106,  5140,  5172,  5175,  5176,  5239,\n",
       "        5240,  5241,  5243,  5244,  5273,  5274,  5275,  5276,  5277,\n",
       "        5278,  5308,  5312,  5342,  5344,  5409,  5410,  5540,  5541,\n",
       "        5678,  5710,  5713,  5743,  5746,  5747,  5805,  5806,  5848,\n",
       "        5912,  5924,  5927,  5956,  5957,  5958,  5959,  6007,  6044,\n",
       "        6108,  6109,  6142,  6143,  6144,  6146,  6178,  6274,  6308,\n",
       "        6309,  6310,  6311,  6312,  6313,  6323,  6334,  6402,  6470,\n",
       "        6471,  6506,  6536,  6569,  6570,  6572,  6573,  6574,  6622,\n",
       "        6656,  6657,  6658,  6659,  6692,  6693,  6694,  6695,  6726,\n",
       "        6727,  6728,  6730,  6824,  6825,  6826,  6827,  6828,  6861,\n",
       "        6892,  7028,  7029,  7031,  7165,  7196,  7197,  7198,  7199,\n",
       "        7228,  7231,  7232,  7233,  7321,  7455,  7534,  7537,  7538,\n",
       "        7720,  7721,  7722,  7723,  7990,  7991,  8020,  8021,  8022,\n",
       "        8089,  8091,  8159,  8198,  8267,  8270,  8435,  8468,  8470,\n",
       "        8500,  8501,  8502,  8534,  8535,  8539,  8604,  8659,  8689,\n",
       "        8690,  8691,  8693,  8773,  8774,  8777,  8809,  8911,  8912,\n",
       "        8913,  8947,  9015,  9135,  9196,  9198,  9264,  9265,  9267,\n",
       "        9299,  9315,  9347,  9430,  9431,  9432,  9434,  9465,  9561,\n",
       "        9565,  9626,  9627,  9657,  9694,  9695,  9795,  9796,  9911,\n",
       "        9912,  9913,  9914,  9915,  9916,  9946,  9948,  9979,  9983,\n",
       "        9984, 10013, 10018, 10048, 10049, 10050, 10051, 10052, 10083,\n",
       "       10084, 10085, 10086, 10120, 10251, 10252, 10287, 10364, 10463,\n",
       "       10465, 10498, 10499, 10500, 10533, 10559, 10591, 10592, 10593,\n",
       "       10594, 10595, 10596, 10662, 10691, 10692, 10693, 10694, 10695,\n",
       "       10696, 10716, 10717, 10782, 10813, 10815, 10816, 10817, 10818,\n",
       "       10851])"
      ]
     },
     "execution_count": 3,
     "metadata": {},
     "output_type": "execute_result"
    }
   ],
   "source": [
    "np.unique(games_tourney_test['team_1'])"
   ]
  },
  {
   "cell_type": "markdown",
   "metadata": {},
   "source": [
    "# Create models layers and tensors"
   ]
  },
  {
   "cell_type": "code",
   "execution_count": 4,
   "metadata": {},
   "outputs": [],
   "source": [
    "# create input tensor to load 1 column data\n",
    "input_tensor=Input(shape=(1,), name='Input')\n",
    "# create embedding layer\n",
    "embed_layer=Embedding(input_dim=10852, input_length=1, output_dim=1, name='Team-Lookup')\n",
    "# creatw embedding tensor to apply embedding for input tensor\n",
    "embed_tensor=embed_layer(input_tensor)\n",
    "# create flatten tensor to apply flatten for embedding tensor\n",
    "flatten_tensor=Flatten(name='Flatten')(embed_tensor)"
   ]
  },
  {
   "cell_type": "markdown",
   "metadata": {},
   "source": [
    "# Define the model with input and output as input tensor and flatten tensor"
   ]
  },
  {
   "cell_type": "code",
   "execution_count": 5,
   "metadata": {},
   "outputs": [],
   "source": [
    "model=Model(input_tensor,flatten_tensor)"
   ]
  },
  {
   "cell_type": "markdown",
   "metadata": {},
   "source": [
    "# Show model`s layers"
   ]
  },
  {
   "cell_type": "code",
   "execution_count": 6,
   "metadata": {},
   "outputs": [
    {
     "data": {
      "image/png": "[encoded data removed]",
      "text/plain": [
       "<Figure size 432x288 with 1 Axes>"
      ]
     },
     "metadata": {
      "needs_background": "light"
     },
     "output_type": "display_data"
    }
   ],
   "source": [
    "plot_model(model, to_file='model.png')\n",
    "img=plt.imread('model.png')\n",
    "plt.imshow(img)\n",
    "plt.show()"
   ]
  },
  {
   "cell_type": "markdown",
   "metadata": {},
   "source": [
    "# Compile the model"
   ]
  },
  {
   "cell_type": "code",
   "execution_count": 7,
   "metadata": {},
   "outputs": [
    {
     "name": "stdout",
     "output_type": "stream",
     "text": [
      "Model: \"functional_1\"\n",
      "_________________________________________________________________\n",
      "Layer (type)                 Output Shape              Param #   \n",
      "=================================================================\n",
      "Input (InputLayer)           [(None, 1)]               0         \n",
      "_________________________________________________________________\n",
      "Team-Lookup (Embedding)      (None, 1, 1)              10852     \n",
      "_________________________________________________________________\n",
      "Flatten (Flatten)            (None, 1)                 0         \n",
      "=================================================================\n",
      "Total params: 10,852\n",
      "Trainable params: 10,852\n",
      "Non-trainable params: 0\n",
      "_________________________________________________________________\n"
     ]
    }
   ],
   "source": [
    "model.compile(optimizer='adam', loss='mae')\n",
    "model.summary()"
   ]
  },
  {
   "cell_type": "markdown",
   "metadata": {},
   "source": [
    "# Model fitting"
   ]
  },
  {
   "cell_type": "code",
   "execution_count": 8,
   "metadata": {},
   "outputs": [
    {
     "name": "stdout",
     "output_type": "stream",
     "text": [
      "44/44 [==============================] - 0s 3ms/step - loss: 11.6853 - val_loss: 12.0474\n"
     ]
    },
    {
     "data": {
      "text/plain": [
       "<tensorflow.python.keras.callbacks.History at 0x14161b370>"
      ]
     },
     "execution_count": 8,
     "metadata": {},
     "output_type": "execute_result"
    }
   ],
   "source": [
    "model.fit(games_tourney_train['team_1'],games_tourney_train['score_diff'], epochs=1, batch_size=64, validation_split=0.2, verbose=True)"
   ]
  },
  {
   "cell_type": "markdown",
   "metadata": {},
   "source": [
    "# Model evaluation"
   ]
  },
  {
   "cell_type": "code",
   "execution_count": 9,
   "metadata": {
    "scrolled": true
   },
   "outputs": [
    {
     "name": "stdout",
     "output_type": "stream",
     "text": [
      "23/23 [==============================] - 0s 468us/step - loss: 11.3593\n"
     ]
    },
    {
     "data": {
      "text/plain": [
       "11.359286308288574"
      ]
     },
     "execution_count": 9,
     "metadata": {},
     "output_type": "execute_result"
    }
   ],
   "source": [
    "model.evaluate(games_tourney_test['team_1'],games_tourney_test['score_diff'])"
   ]
  },
  {
   "cell_type": "markdown",
   "metadata": {},
   "source": [
    "#####################################################################################################################"
   ]
  },
  {
   "cell_type": "markdown",
   "metadata": {},
   "source": [
    "# Building Model1 with 2 inputs and re-used previous Model"
   ]
  },
  {
   "cell_type": "markdown",
   "metadata": {},
   "source": [
    "## create model1`s layers and tensors"
   ]
  },
  {
   "cell_type": "code",
   "execution_count": 10,
   "metadata": {},
   "outputs": [],
   "source": [
    "# first input tensor\n",
    "input_tensor1=Input(shape=(1,))\n",
    "# second input tensor\n",
    "input_tensor2=Input(shape=(1,))\n",
    "# re-using Model\n",
    "inp1=model(input_tensor1)\n",
    "inp2=model(input_tensor2)\n",
    "# score tensor that substract 2 re-used inputs\n",
    "score_diff=Add()([inp1,inp2])"
   ]
  },
  {
   "cell_type": "markdown",
   "metadata": {},
   "source": [
    "# Define the Model1 with 2 inputs and score tensor "
   ]
  },
  {
   "cell_type": "code",
   "execution_count": 11,
   "metadata": {},
   "outputs": [],
   "source": [
    "model1=Model([input_tensor1,input_tensor2], score_diff)"
   ]
  },
  {
   "cell_type": "markdown",
   "metadata": {},
   "source": [
    "# Show model1`s layers"
   ]
  },
  {
   "cell_type": "code",
   "execution_count": 12,
   "metadata": {},
   "outputs": [
    {
     "data": {
      "image/png": "[encoded data removed]",
      "text/plain": [
       "<Figure size 432x288 with 1 Axes>"
      ]
     },
     "metadata": {
      "needs_background": "light"
     },
     "output_type": "display_data"
    }
   ],
   "source": [
    "plot_model(model1, to_file='model1.png')\n",
    "img=plt.imread('model1.png')\n",
    "plt.imshow(img)\n",
    "plt.show()"
   ]
  },
  {
   "cell_type": "markdown",
   "metadata": {},
   "source": [
    "# Compile model1"
   ]
  },
  {
   "cell_type": "code",
   "execution_count": 13,
   "metadata": {},
   "outputs": [
    {
     "name": "stdout",
     "output_type": "stream",
     "text": [
      "Model: \"functional_3\"\n",
      "__________________________________________________________________________________________________\n",
      "Layer (type)                    Output Shape         Param #     Connected to                     \n",
      "==================================================================================================\n",
      "input_1 (InputLayer)            [(None, 1)]          0                                            \n",
      "__________________________________________________________________________________________________\n",
      "input_2 (InputLayer)            [(None, 1)]          0                                            \n",
      "__________________________________________________________________________________________________\n",
      "functional_1 (Functional)       (None, 1)            10852       input_1[0][0]                    \n",
      "                                                                 input_2[0][0]                    \n",
      "__________________________________________________________________________________________________\n",
      "add (Add)                       (None, 1)            0           functional_1[0][0]               \n",
      "                                                                 functional_1[1][0]               \n",
      "==================================================================================================\n",
      "Total params: 10,852\n",
      "Trainable params: 10,852\n",
      "Non-trainable params: 0\n",
      "__________________________________________________________________________________________________\n"
     ]
    }
   ],
   "source": [
    "model1.compile(optimizer='adam', loss='mean_absolute_error')\n",
    "model1.summary()"
   ]
  },
  {
   "cell_type": "markdown",
   "metadata": {},
   "source": [
    "# Model1`s fitting"
   ]
  },
  {
   "cell_type": "code",
   "execution_count": 14,
   "metadata": {},
   "outputs": [
    {
     "name": "stdout",
     "output_type": "stream",
     "text": [
      "2/2 [==============================] - 0s 46ms/step - loss: 11.8590 - val_loss: 10.8557\n"
     ]
    },
    {
     "data": {
      "text/plain": [
       "<tensorflow.python.keras.callbacks.History at 0x141842ee0>"
      ]
     },
     "execution_count": 14,
     "metadata": {},
     "output_type": "execute_result"
    }
   ],
   "source": [
    "model1.fit([games_tourney_train['team_1'],games_tourney_train['team_2']],games_tourney_train['score_diff'], epochs=1, batch_size=2048, validation_split=0.1, verbose=True)"
   ]
  },
  {
   "cell_type": "markdown",
   "metadata": {},
   "source": [
    "# Model1`s evaluation"
   ]
  },
  {
   "cell_type": "code",
   "execution_count": 15,
   "metadata": {
    "scrolled": true
   },
   "outputs": [
    {
     "name": "stdout",
     "output_type": "stream",
     "text": [
      "23/23 [==============================] - 0s 615us/step - loss: 11.3595\n"
     ]
    },
    {
     "data": {
      "text/plain": [
       "11.359532356262207"
      ]
     },
     "execution_count": 15,
     "metadata": {},
     "output_type": "execute_result"
    }
   ],
   "source": [
    "model1.evaluate([games_tourney_test['team_1'],games_tourney_test['team_2']],games_tourney_test['score_diff'])"
   ]
  }
 ],
 "metadata": {
  "kernelspec": {
   "display_name": "Python 3",
   "language": "python",
   "name": "python3"
  },
  "language_info": {
   "codemirror_mode": {
    "name": "ipython",
    "version": 3
   },
   "file_extension": ".py",
   "mimetype": "text/x-python",
   "name": "python",
   "nbconvert_exporter": "python",
   "pygments_lexer": "ipython3",
   "version": "3.8.5"
  }
 },
 "nbformat": 4,
 "nbformat_minor": 4
}
