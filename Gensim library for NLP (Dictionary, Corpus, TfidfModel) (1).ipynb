{
 "cells": [
  {
   "cell_type": "code",
   "execution_count": 49,
   "metadata": {},
   "outputs": [],
   "source": [
    "from gensim.corpora.dictionary import Dictionary\n",
    "from gensim.models import TfidfModel\n",
    "from nltk.tokenize import word_tokenize\n",
    "from nltk.tokenize import sent_tokenize"
   ]
  },
  {
   "cell_type": "code",
   "execution_count": 6,
   "metadata": {},
   "outputs": [],
   "source": [
    "text='The poor girl bore all patiently, and dared not tell her father, who would have been angry with her; for his new wife ruled him entirely. When the little girl had done her work, she used to go into the chimney corner, and sit down among cinders and ashes, which led her to be called Cinderwench; but the youngest stepdaughter, who was not quite so rude and unkind as the eldest, called her Cinderella. However, Cinderella, dressed in rags was a hundred times prettier than her sisters, though they were always dressed very richly.'"
   ]
  },
  {
   "cell_type": "code",
   "execution_count": 20,
   "metadata": {},
   "outputs": [
    {
     "data": {
      "text/plain": [
       "['The poor girl bore all patiently, and dared not tell her father, who would have been angry with her; for his new wife ruled him entirely.',\n",
       " 'When the little girl had done her work, she used to go into the chimney corner, and sit down among cinders and ashes, which led her to be called Cinderwench; but the youngest stepdaughter, who was not quite so rude and unkind as the eldest, called her Cinderella.',\n",
       " 'However, Cinderella, dressed in rags was a hundred times prettier than her sisters, though they were always dressed very richly.']"
      ]
     },
     "execution_count": 20,
     "metadata": {},
     "output_type": "execute_result"
    }
   ],
   "source": [
    "doc=sent_tokenize(text)\n",
    "doc"
   ]
  },
  {
   "cell_type": "code",
   "execution_count": 21,
   "metadata": {
    "scrolled": true
   },
   "outputs": [
    {
     "data": {
      "text/plain": [
       "[['the',\n",
       "  'poor',\n",
       "  'girl',\n",
       "  'bore',\n",
       "  'all',\n",
       "  'patiently',\n",
       "  ',',\n",
       "  'and',\n",
       "  'dared',\n",
       "  'not',\n",
       "  'tell',\n",
       "  'her',\n",
       "  'father',\n",
       "  ',',\n",
       "  'who',\n",
       "  'would',\n",
       "  'have',\n",
       "  'been',\n",
       "  'angry',\n",
       "  'with',\n",
       "  'her',\n",
       "  ';',\n",
       "  'for',\n",
       "  'his',\n",
       "  'new',\n",
       "  'wife',\n",
       "  'ruled',\n",
       "  'him',\n",
       "  'entirely',\n",
       "  '.'],\n",
       " ['when',\n",
       "  'the',\n",
       "  'little',\n",
       "  'girl',\n",
       "  'had',\n",
       "  'done',\n",
       "  'her',\n",
       "  'work',\n",
       "  ',',\n",
       "  'she',\n",
       "  'used',\n",
       "  'to',\n",
       "  'go',\n",
       "  'into',\n",
       "  'the',\n",
       "  'chimney',\n",
       "  'corner',\n",
       "  ',',\n",
       "  'and',\n",
       "  'sit',\n",
       "  'down',\n",
       "  'among',\n",
       "  'cinders',\n",
       "  'and',\n",
       "  'ashes',\n",
       "  ',',\n",
       "  'which',\n",
       "  'led',\n",
       "  'her',\n",
       "  'to',\n",
       "  'be',\n",
       "  'called',\n",
       "  'cinderwench',\n",
       "  ';',\n",
       "  'but',\n",
       "  'the',\n",
       "  'youngest',\n",
       "  'stepdaughter',\n",
       "  ',',\n",
       "  'who',\n",
       "  'was',\n",
       "  'not',\n",
       "  'quite',\n",
       "  'so',\n",
       "  'rude',\n",
       "  'and',\n",
       "  'unkind',\n",
       "  'as',\n",
       "  'the',\n",
       "  'eldest',\n",
       "  ',',\n",
       "  'called',\n",
       "  'her',\n",
       "  'cinderella',\n",
       "  '.'],\n",
       " ['however',\n",
       "  ',',\n",
       "  'cinderella',\n",
       "  ',',\n",
       "  'dressed',\n",
       "  'in',\n",
       "  'rags',\n",
       "  'was',\n",
       "  'a',\n",
       "  'hundred',\n",
       "  'times',\n",
       "  'prettier',\n",
       "  'than',\n",
       "  'her',\n",
       "  'sisters',\n",
       "  ',',\n",
       "  'though',\n",
       "  'they',\n",
       "  'were',\n",
       "  'always',\n",
       "  'dressed',\n",
       "  'very',\n",
       "  'richly',\n",
       "  '.']]"
      ]
     },
     "execution_count": 21,
     "metadata": {},
     "output_type": "execute_result"
    }
   ],
   "source": [
    "word_tokenized=[word_tokenize(word.lower()) for word in doc]\n",
    "word_tokenized"
   ]
  },
  {
   "cell_type": "code",
   "execution_count": 22,
   "metadata": {},
   "outputs": [
    {
     "data": {
      "text/plain": [
       "<gensim.corpora.dictionary.Dictionary at 0x11e0eba90>"
      ]
     },
     "execution_count": 22,
     "metadata": {},
     "output_type": "execute_result"
    }
   ],
   "source": [
    "#create gensim dictionary class, where dictionary consist of tokens and their ids\n",
    "dictionary=Dictionary(word_tokenized)\n",
    "dictionary"
   ]
  },
  {
   "cell_type": "code",
   "execution_count": 23,
   "metadata": {},
   "outputs": [
    {
     "data": {
      "text/plain": [
       "{',': 0,\n",
       " '.': 1,\n",
       " ';': 2,\n",
       " 'all': 3,\n",
       " 'and': 4,\n",
       " 'angry': 5,\n",
       " 'been': 6,\n",
       " 'bore': 7,\n",
       " 'dared': 8,\n",
       " 'entirely': 9,\n",
       " 'father': 10,\n",
       " 'for': 11,\n",
       " 'girl': 12,\n",
       " 'have': 13,\n",
       " 'her': 14,\n",
       " 'him': 15,\n",
       " 'his': 16,\n",
       " 'new': 17,\n",
       " 'not': 18,\n",
       " 'patiently': 19,\n",
       " 'poor': 20,\n",
       " 'ruled': 21,\n",
       " 'tell': 22,\n",
       " 'the': 23,\n",
       " 'who': 24,\n",
       " 'wife': 25,\n",
       " 'with': 26,\n",
       " 'would': 27,\n",
       " 'among': 28,\n",
       " 'as': 29,\n",
       " 'ashes': 30,\n",
       " 'be': 31,\n",
       " 'but': 32,\n",
       " 'called': 33,\n",
       " 'chimney': 34,\n",
       " 'cinderella': 35,\n",
       " 'cinders': 36,\n",
       " 'cinderwench': 37,\n",
       " 'corner': 38,\n",
       " 'done': 39,\n",
       " 'down': 40,\n",
       " 'eldest': 41,\n",
       " 'go': 42,\n",
       " 'had': 43,\n",
       " 'into': 44,\n",
       " 'led': 45,\n",
       " 'little': 46,\n",
       " 'quite': 47,\n",
       " 'rude': 48,\n",
       " 'she': 49,\n",
       " 'sit': 50,\n",
       " 'so': 51,\n",
       " 'stepdaughter': 52,\n",
       " 'to': 53,\n",
       " 'unkind': 54,\n",
       " 'used': 55,\n",
       " 'was': 56,\n",
       " 'when': 57,\n",
       " 'which': 58,\n",
       " 'work': 59,\n",
       " 'youngest': 60,\n",
       " 'a': 61,\n",
       " 'always': 62,\n",
       " 'dressed': 63,\n",
       " 'however': 64,\n",
       " 'hundred': 65,\n",
       " 'in': 66,\n",
       " 'prettier': 67,\n",
       " 'rags': 68,\n",
       " 'richly': 69,\n",
       " 'sisters': 70,\n",
       " 'than': 71,\n",
       " 'they': 72,\n",
       " 'though': 73,\n",
       " 'times': 74,\n",
       " 'very': 75,\n",
       " 'were': 76}"
      ]
     },
     "execution_count": 23,
     "metadata": {},
     "output_type": "execute_result"
    }
   ],
   "source": [
    "# look at dictionary with token2id attribute\n",
    "dictionary.token2id"
   ]
  },
  {
   "cell_type": "code",
   "execution_count": 26,
   "metadata": {
    "scrolled": true
   },
   "outputs": [
    {
     "name": "stdout",
     "output_type": "stream",
     "text": [
      "(token id, frequency in the doc)\n"
     ]
    },
    {
     "data": {
      "text/plain": [
       "[[(0, 2),\n",
       "  (1, 1),\n",
       "  (2, 1),\n",
       "  (3, 1),\n",
       "  (4, 1),\n",
       "  (5, 1),\n",
       "  (6, 1),\n",
       "  (7, 1),\n",
       "  (8, 1),\n",
       "  (9, 1),\n",
       "  (10, 1),\n",
       "  (11, 1),\n",
       "  (12, 1),\n",
       "  (13, 1),\n",
       "  (14, 2),\n",
       "  (15, 1),\n",
       "  (16, 1),\n",
       "  (17, 1),\n",
       "  (18, 1),\n",
       "  (19, 1),\n",
       "  (20, 1),\n",
       "  (21, 1),\n",
       "  (22, 1),\n",
       "  (23, 1),\n",
       "  (24, 1),\n",
       "  (25, 1),\n",
       "  (26, 1),\n",
       "  (27, 1)],\n",
       " [(0, 5),\n",
       "  (1, 1),\n",
       "  (2, 1),\n",
       "  (4, 3),\n",
       "  (12, 1),\n",
       "  (14, 3),\n",
       "  (18, 1),\n",
       "  (23, 4),\n",
       "  (24, 1),\n",
       "  (28, 1),\n",
       "  (29, 1),\n",
       "  (30, 1),\n",
       "  (31, 1),\n",
       "  (32, 1),\n",
       "  (33, 2),\n",
       "  (34, 1),\n",
       "  (35, 1),\n",
       "  (36, 1),\n",
       "  (37, 1),\n",
       "  (38, 1),\n",
       "  (39, 1),\n",
       "  (40, 1),\n",
       "  (41, 1),\n",
       "  (42, 1),\n",
       "  (43, 1),\n",
       "  (44, 1),\n",
       "  (45, 1),\n",
       "  (46, 1),\n",
       "  (47, 1),\n",
       "  (48, 1),\n",
       "  (49, 1),\n",
       "  (50, 1),\n",
       "  (51, 1),\n",
       "  (52, 1),\n",
       "  (53, 2),\n",
       "  (54, 1),\n",
       "  (55, 1),\n",
       "  (56, 1),\n",
       "  (57, 1),\n",
       "  (58, 1),\n",
       "  (59, 1),\n",
       "  (60, 1)],\n",
       " [(0, 3),\n",
       "  (1, 1),\n",
       "  (14, 1),\n",
       "  (35, 1),\n",
       "  (56, 1),\n",
       "  (61, 1),\n",
       "  (62, 1),\n",
       "  (63, 2),\n",
       "  (64, 1),\n",
       "  (65, 1),\n",
       "  (66, 1),\n",
       "  (67, 1),\n",
       "  (68, 1),\n",
       "  (69, 1),\n",
       "  (70, 1),\n",
       "  (71, 1),\n",
       "  (72, 1),\n",
       "  (73, 1),\n",
       "  (74, 1),\n",
       "  (75, 1),\n",
       "  (76, 1)]]"
      ]
     },
     "execution_count": 26,
     "metadata": {},
     "output_type": "execute_result"
    }
   ],
   "source": [
    "# create corpus model that create vectors for each token\n",
    "corpus=[dictionary.doc2bow(doc) for doc in word_tokenized]\n",
    "print('(token id, frequency in the doc)')\n",
    "corpus"
   ]
  },
  {
   "cell_type": "code",
   "execution_count": 56,
   "metadata": {},
   "outputs": [
    {
     "data": {
      "text/plain": [
       "[(2, 0.08290620653877452),\n",
       " (3, 0.22463530273992538),\n",
       " (4, 0.08290620653877452),\n",
       " (5, 0.22463530273992538),\n",
       " (6, 0.22463530273992538),\n",
       " (7, 0.22463530273992538),\n",
       " (8, 0.22463530273992538),\n",
       " (9, 0.22463530273992538),\n",
       " (10, 0.22463530273992538),\n",
       " (11, 0.22463530273992538),\n",
       " (12, 0.08290620653877452),\n",
       " (13, 0.22463530273992538),\n",
       " (15, 0.22463530273992538),\n",
       " (16, 0.22463530273992538),\n",
       " (17, 0.22463530273992538),\n",
       " (18, 0.08290620653877452),\n",
       " (19, 0.22463530273992538),\n",
       " (20, 0.22463530273992538),\n",
       " (21, 0.22463530273992538),\n",
       " (22, 0.22463530273992538),\n",
       " (23, 0.08290620653877452),\n",
       " (24, 0.08290620653877452),\n",
       " (25, 0.22463530273992538),\n",
       " (26, 0.22463530273992538),\n",
       " (27, 0.22463530273992538)]"
      ]
     },
     "execution_count": 56,
     "metadata": {},
     "output_type": "execute_result"
    }
   ],
   "source": [
    "#create Tfidf model to determine good topics and keywords for a corpus\n",
    "tfidf=TfidfModel(corpus)\n",
    "#print weights of each token that means its significance\n",
    "tfidf[corpus[0]]"
   ]
  }
 ],
 "metadata": {
  "kernelspec": {
   "display_name": "Python 3",
   "language": "python",
   "name": "python3"
  },
  "language_info": {
   "codemirror_mode": {
    "name": "ipython",
    "version": 3
   },
   "file_extension": ".py",
   "mimetype": "text/x-python",
   "name": "python",
   "nbconvert_exporter": "python",
   "pygments_lexer": "ipython3",
   "version": "3.8.5"
  }
 },
 "nbformat": 4,
 "nbformat_minor": 4
}
