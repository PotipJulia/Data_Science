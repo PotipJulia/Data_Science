{
 "cells": [
  {
   "cell_type": "code",
   "execution_count": 50,
   "metadata": {},
   "outputs": [],
   "source": [
    "from nltk.tokenize import word_tokenize\n",
    "from nltk.tokenize import sent_tokenize\n",
    "from collections import Counter\n",
    "import re\n",
    "import matplotlib.pyplot as plt\n",
    "import seaborn as sns"
   ]
  },
  {
   "cell_type": "code",
   "execution_count": 64,
   "metadata": {},
   "outputs": [
    {
     "data": {
      "text/plain": [
       "\"SCENE 1: [wind] [clop clop clop] \\nKING ARTHUR: Whoa there!  [clop clop clop] \\nSOLDIER #1: Halt!  Who goes there?\\nARTHUR: It is I, Arthur, son of Uther Pendragon, from the castle of Camelot.  King of the Britons, defeator of the Saxons, sovereign of all England!\\nSOLDIER #1: Pull the other one!\\nARTHUR: I am, ...  and this is my trusty servant Patsy.  We have ridden the length and breadth of the land in search of knights who will join me in my court at Camelot.  I must speak with your lord and master.\\nSOLDIER #1: What?  Ridden on a horse?\\nARTHUR: Yes!\\nSOLDIER #1: You're using coconuts!\\nARTHUR: What?\\nSOLDIER #1: You've got two empty halves of coconut and you're bangin' 'em together.\\nARTHUR: So?  We have ridden since the snows of winter covered this land, through the kingdom of Mercea, through--\\nSOLDIER #1: Where'd you get the coconuts?\\nARTHUR: We found them.\\nSOLDIER #1: Found them?  In Mercea?  The coconut's tropical!\\nARTHUR: What do you mean?\\nSOLDIER #1: Well, this is a temperate zone.\\nARTHUR: The swallow may fly south with the sun or the house martin or the plover may seek warmer climes in winter, yet these are not strangers to our land?\\nSOLDIER #1: Are you suggesting coconuts migrate?\\nARTHUR: Not at all.  They could be carried.\\nSOLDIER #1: What?  A swallow carrying a coconut?\\nARTHUR: It could grip it by the husk!\\nSOLDIER #1: It's not a question of where he grips it!  It's a simple question of weight ratios!  A five ounce bird could not carry a one pound coconut.\\nARTHUR: Well, it doesn't matter.  Will you go and tell your master that Arthur from the Court of Camelot is here.\\nSOLDIER #1: Listen.  In order to maintain air-speed velocity, a swallow needs to beat its wings forty-three times every second, right?\\nARTHUR: Please!\\nSOLDIER #1: Am I right?\\nARTHUR: I'm not interested!\\nSOLDIER #2: It could be carried by an African swallow!\\nSOLDIER #1: Oh, yeah, an African swallow maybe, but not a European swallow.  That's my point.\\nSOLDIER #2: Oh, yeah, I agree with that.\\nARTHUR: Will you ask your master if he wants to join my court at Camelot?!\\nSOLDIER #1: But then of course a-- African swallows are non-migratory.\\nSOLDIER #2: Oh, yeah...\\nSOLDIER #1: So they couldn't bring a coconut back anyway...  [clop clop clop] \\nSOLDIER #2: Wait a minute!  Supposing two swallows carried it together?\\nSOLDIER #1: No, they'd have to have it on a line.\\nSOLDIER #2: Well, simple!  They'd just use a strand of creeper!\\nSOLDIER #1: What, held under the dorsal guiding feathers?\\nSOLDIER #2: Well, why not?\\n\""
      ]
     },
     "execution_count": 64,
     "metadata": {},
     "output_type": "execute_result"
    }
   ],
   "source": [
    "text=\"SCENE 1: [wind] [clop clop clop] \\nKING ARTHUR: Whoa there!  [clop clop clop] \\nSOLDIER #1: Halt!  Who goes there?\\nARTHUR: It is I, Arthur, son of Uther Pendragon, from the castle of Camelot.  King of the Britons, defeator of the Saxons, sovereign of all England!\\nSOLDIER #1: Pull the other one!\\nARTHUR: I am, ...  and this is my trusty servant Patsy.  We have ridden the length and breadth of the land in search of knights who will join me in my court at Camelot.  I must speak with your lord and master.\\nSOLDIER #1: What?  Ridden on a horse?\\nARTHUR: Yes!\\nSOLDIER #1: You're using coconuts!\\nARTHUR: What?\\nSOLDIER #1: You've got two empty halves of coconut and you're bangin' 'em together.\\nARTHUR: So?  We have ridden since the snows of winter covered this land, through the kingdom of Mercea, through--\\nSOLDIER #1: Where'd you get the coconuts?\\nARTHUR: We found them.\\nSOLDIER #1: Found them?  In Mercea?  The coconut's tropical!\\nARTHUR: What do you mean?\\nSOLDIER #1: Well, this is a temperate zone.\\nARTHUR: The swallow may fly south with the sun or the house martin or the plover may seek warmer climes in winter, yet these are not strangers to our land?\\nSOLDIER #1: Are you suggesting coconuts migrate?\\nARTHUR: Not at all.  They could be carried.\\nSOLDIER #1: What?  A swallow carrying a coconut?\\nARTHUR: It could grip it by the husk!\\nSOLDIER #1: It's not a question of where he grips it!  It's a simple question of weight ratios!  A five ounce bird could not carry a one pound coconut.\\nARTHUR: Well, it doesn't matter.  Will you go and tell your master that Arthur from the Court of Camelot is here.\\nSOLDIER #1: Listen.  In order to maintain air-speed velocity, a swallow needs to beat its wings forty-three times every second, right?\\nARTHUR: Please!\\nSOLDIER #1: Am I right?\\nARTHUR: I'm not interested!\\nSOLDIER #2: It could be carried by an African swallow!\\nSOLDIER #1: Oh, yeah, an African swallow maybe, but not a European swallow.  That's my point.\\nSOLDIER #2: Oh, yeah, I agree with that.\\nARTHUR: Will you ask your master if he wants to join my court at Camelot?!\\nSOLDIER #1: But then of course a-- African swallows are non-migratory.\\nSOLDIER #2: Oh, yeah...\\nSOLDIER #1: So they couldn't bring a coconut back anyway...  [clop clop clop] \\nSOLDIER #2: Wait a minute!  Supposing two swallows carried it together?\\nSOLDIER #1: No, they'd have to have it on a line.\\nSOLDIER #2: Well, simple!  They'd just use a strand of creeper!\\nSOLDIER #1: What, held under the dorsal guiding feathers?\\nSOLDIER #2: Well, why not?\\n\"\n",
    "text"
   ]
  },
  {
   "cell_type": "markdown",
   "metadata": {},
   "source": [
    "# RegeX"
   ]
  },
  {
   "cell_type": "code",
   "execution_count": 65,
   "metadata": {},
   "outputs": [
    {
     "name": "stdout",
     "output_type": "stream",
     "text": [
      "['wind', 'clop', 'clop', 'clop', 'hoa', 'there', 'clop', 'clop', 'clop', 'alt', 'ho', 'goes', 'there', 'is', 'rthur', 'son', 'of', 'ther', 'endragon', 'from', 'the', 'castle', 'of', 'amelot', 'ing', 'of', 'the', 'ritons', 'defeator', 'of', 'the', 'axons', 'sovereign', 'of', 'all', 'ngland', 'ull', 'the', 'other', 'one', 'am', 'and', 'this', 'is', 'my', 'trusty', 'servant', 'atsy', 'have', 'ridden', 'the', 'length', 'and', 'breadth', 'of', 'the', 'land', 'in', 'search', 'of', 'knights', 'who', 'will', 'join', 'me', 'in', 'my', 'court', 'at', 'amelot', 'must', 'speak', 'with', 'your', 'lord', 'and', 'master', 'hat', 'idden', 'on', 'horse', 'es', 'ou', 're', 'using', 'coconuts', 'hat', 'ou', 've', 'got', 'two', 'empty', 'halves', 'of', 'coconut', 'and', 'you', 're', 'bangin', 'em', 'together', 'have', 'ridden', 'since', 'the', 'snows', 'of', 'winter', 'covered', 'this', 'land', 'through', 'the', 'kingdom', 'of', 'ercea', 'through', 'here', 'you', 'get', 'the', 'coconuts', 'found', 'them', 'ound', 'them', 'ercea', 'he', 'coconut', 'tropical', 'hat', 'do', 'you', 'mean', 'ell', 'this', 'is', 'temperate', 'zone', 'he', 'swallow', 'may', 'fly', 'south', 'with', 'the', 'sun', 'or', 'the', 'house', 'martin', 'or', 'the', 'plover', 'may', 'seek', 'warmer', 'climes', 'in', 'winter', 'yet', 'these', 'are', 'not', 'strangers', 'to', 'our', 'land', 're', 'you', 'suggesting', 'coconuts', 'migrate', 'ot', 'at', 'all', 'hey', 'could', 'be', 'carried', 'hat', 'swallow', 'carrying', 'coconut', 'could', 'grip', 'it', 'by', 'the', 'husk', 'not', 'question', 'of', 'where', 'he', 'grips', 'it', 'simple', 'question', 'of', 'weight', 'ratios', 'five', 'ounce', 'bird', 'could', 'not', 'carry', 'one', 'pound', 'coconut', 'ell', 'it', 'doesn', 'matter', 'ill', 'you', 'go', 'and', 'tell', 'your', 'master', 'that', 'rthur', 'from', 'the', 'ourt', 'of', 'amelot', 'is', 'here', 'isten', 'order', 'to', 'maintain', 'air', 'speed', 'velocity', 'swallow', 'needs', 'to', 'beat', 'its', 'wings', 'forty', 'three', 'times', 'every', 'second', 'right', 'lease', 'right', 'not', 'interested', 'could', 'be', 'carried', 'by', 'an', 'frican', 'swallow', 'yeah', 'an', 'frican', 'swallow', 'maybe', 'but', 'not', 'uropean', 'swallow', 'hat', 'my', 'point', 'yeah', 'agree', 'with', 'that', 'ill', 'you', 'ask', 'your', 'master', 'if', 'he', 'wants', 'to', 'join', 'my', 'court', 'at', 'amelot', 'ut', 'then', 'of', 'course', 'frican', 'swallows', 'are', 'non', 'migratory', 'yeah', 'they', 'couldn', 'bring', 'coconut', 'back', 'anyway', 'clop', 'clop', 'clop', 'ait', 'minute', 'upposing', 'two', 'swallows', 'carried', 'it', 'together', 'they', 'have', 'to', 'have', 'it', 'on', 'line', 'ell', 'simple', 'hey', 'just', 'use', 'strand', 'of', 'creeper', 'hat', 'held', 'under', 'the', 'dorsal', 'guiding', 'feathers', 'ell', 'why', 'not']\n"
     ]
    }
   ],
   "source": [
    "# find all lowercase word of sentence\n",
    "find=re.findall('[a-z]\\w+',text)\n",
    "print(find)"
   ]
  },
  {
   "cell_type": "code",
   "execution_count": 67,
   "metadata": {},
   "outputs": [
    {
     "name": "stdout",
     "output_type": "stream",
     "text": [
      "<re.Match object; span=(0, 1), match='1'>\n"
     ]
    }
   ],
   "source": [
    "# find first digit of sentence\n",
    "sentense=\"146 my g 34!\"\n",
    "match=re.match('\\d',sentense)\n",
    "print(match)"
   ]
  },
  {
   "cell_type": "code",
   "execution_count": 69,
   "metadata": {},
   "outputs": [
    {
     "name": "stdout",
     "output_type": "stream",
     "text": [
      "<re.Match object; span=(0, 1), match=' '>\n"
     ]
    }
   ],
   "source": [
    "# find first space of sentence\n",
    "sentense=\" gyh bjl 66!\"\n",
    "match=re.match('\\s',sentense)\n",
    "print(match)"
   ]
  },
  {
   "cell_type": "code",
   "execution_count": 71,
   "metadata": {},
   "outputs": [
    {
     "data": {
      "text/plain": [
       "['split!', 'on', 'spaces']"
      ]
     },
     "execution_count": 71,
     "metadata": {},
     "output_type": "execute_result"
    }
   ],
   "source": [
    "#split sentense \n",
    "re.split('\\s','split! on spaces')"
   ]
  },
  {
   "cell_type": "code",
   "execution_count": 72,
   "metadata": {},
   "outputs": [
    {
     "data": {
      "text/plain": [
       "['split', 'on', 'spaces']"
      ]
     },
     "execution_count": 72,
     "metadata": {},
     "output_type": "execute_result"
    }
   ],
   "source": [
    "#split sentense \n",
    "re.split('[.!?]\\s','split! on. spaces')"
   ]
  },
  {
   "cell_type": "markdown",
   "metadata": {},
   "source": [
    "# Tokenization"
   ]
  },
  {
   "cell_type": "code",
   "execution_count": 24,
   "metadata": {
    "scrolled": true
   },
   "outputs": [
    {
     "data": {
      "text/plain": [
       "['SCENE 1: [wind] [clop clop clop] \\nKING ARTHUR: Whoa there!',\n",
       " '[clop clop clop] \\nSOLDIER #1: Halt!',\n",
       " 'Who goes there?',\n",
       " 'ARTHUR: It is I, Arthur, son of Uther Pendragon, from the castle of Camelot.',\n",
       " 'King of the Britons, defeator of the Saxons, sovereign of all England!',\n",
       " 'SOLDIER #1: Pull the other one!',\n",
       " 'ARTHUR: I am, ...  and this is my trusty servant Patsy.',\n",
       " 'We have ridden the length and breadth of the land in search of knights who will join me in my court at Camelot.',\n",
       " 'I must speak with your lord and master.',\n",
       " 'SOLDIER #1: What?',\n",
       " 'Ridden on a horse?',\n",
       " 'ARTHUR: Yes!',\n",
       " \"SOLDIER #1: You're using coconuts!\",\n",
       " 'ARTHUR: What?',\n",
       " \"SOLDIER #1: You've got two empty halves of coconut and you're bangin' 'em together.\",\n",
       " 'ARTHUR: So?',\n",
       " \"We have ridden since the snows of winter covered this land, through the kingdom of Mercea, through--\\nSOLDIER #1: Where'd you get the coconuts?\",\n",
       " 'ARTHUR: We found them.',\n",
       " 'SOLDIER #1: Found them?',\n",
       " 'In Mercea?',\n",
       " \"The coconut's tropical!\",\n",
       " 'ARTHUR: What do you mean?',\n",
       " 'SOLDIER #1: Well, this is a temperate zone.',\n",
       " 'ARTHUR: The swallow may fly south with the sun or the house martin or the plover may seek warmer climes in winter, yet these are not strangers to our land?',\n",
       " 'SOLDIER #1: Are you suggesting coconuts migrate?',\n",
       " 'ARTHUR: Not at all.',\n",
       " 'They could be carried.',\n",
       " 'SOLDIER #1: What?',\n",
       " 'A swallow carrying a coconut?',\n",
       " 'ARTHUR: It could grip it by the husk!',\n",
       " \"SOLDIER #1: It's not a question of where he grips it!\",\n",
       " \"It's a simple question of weight ratios!\",\n",
       " 'A five ounce bird could not carry a one pound coconut.',\n",
       " \"ARTHUR: Well, it doesn't matter.\",\n",
       " 'Will you go and tell your master that Arthur from the Court of Camelot is here.',\n",
       " 'SOLDIER #1: Listen.',\n",
       " 'In order to maintain air-speed velocity, a swallow needs to beat its wings forty-three times every second, right?',\n",
       " 'ARTHUR: Please!',\n",
       " 'SOLDIER #1: Am I right?',\n",
       " \"ARTHUR: I'm not interested!\",\n",
       " 'SOLDIER #2: It could be carried by an African swallow!',\n",
       " 'SOLDIER #1: Oh, yeah, an African swallow maybe, but not a European swallow.',\n",
       " \"That's my point.\",\n",
       " 'SOLDIER #2: Oh, yeah, I agree with that.',\n",
       " 'ARTHUR: Will you ask your master if he wants to join my court at Camelot?!',\n",
       " 'SOLDIER #1: But then of course a-- African swallows are non-migratory.',\n",
       " 'SOLDIER #2: Oh, yeah...',\n",
       " \"SOLDIER #1: So they couldn't bring a coconut back anyway...  [clop clop clop] \\nSOLDIER #2: Wait a minute!\",\n",
       " 'Supposing two swallows carried it together?',\n",
       " \"SOLDIER #1: No, they'd have to have it on a line.\",\n",
       " 'SOLDIER #2: Well, simple!',\n",
       " \"They'd just use a strand of creeper!\",\n",
       " 'SOLDIER #1: What, held under the dorsal guiding feathers?',\n",
       " 'SOLDIER #2: Well, why not?']"
      ]
     },
     "execution_count": 24,
     "metadata": {},
     "output_type": "execute_result"
    }
   ],
   "source": [
    "#tokenize text into sentenses\n",
    "sentenses=sent_tokenize(text)\n",
    "sentenses"
   ]
  },
  {
   "cell_type": "code",
   "execution_count": 39,
   "metadata": {},
   "outputs": [
    {
     "data": {
      "text/plain": [
       "['ARTHUR',\n",
       " ':',\n",
       " 'It',\n",
       " 'is',\n",
       " 'I',\n",
       " ',',\n",
       " 'Arthur',\n",
       " ',',\n",
       " 'son',\n",
       " 'of',\n",
       " 'Uther',\n",
       " 'Pendragon',\n",
       " ',',\n",
       " 'from',\n",
       " 'the',\n",
       " 'castle',\n",
       " 'of',\n",
       " 'Camelot',\n",
       " '.']"
      ]
     },
     "execution_count": 39,
     "metadata": {},
     "output_type": "execute_result"
    }
   ],
   "source": [
    "#tokenize sentense into words\n",
    "words=word_tokenize(sentenses[3])\n",
    "words"
   ]
  },
  {
   "cell_type": "code",
   "execution_count": 26,
   "metadata": {},
   "outputs": [
    {
     "data": {
      "text/plain": [
       "{'!',\n",
       " '#',\n",
       " \"'\",\n",
       " \"'d\",\n",
       " \"'em\",\n",
       " \"'m\",\n",
       " \"'re\",\n",
       " \"'s\",\n",
       " \"'ve\",\n",
       " ',',\n",
       " '--',\n",
       " '.',\n",
       " '...',\n",
       " '1',\n",
       " '2',\n",
       " ':',\n",
       " '?',\n",
       " 'A',\n",
       " 'ARTHUR',\n",
       " 'African',\n",
       " 'Am',\n",
       " 'Are',\n",
       " 'Arthur',\n",
       " 'Britons',\n",
       " 'But',\n",
       " 'Camelot',\n",
       " 'Court',\n",
       " 'England',\n",
       " 'European',\n",
       " 'Found',\n",
       " 'Halt',\n",
       " 'I',\n",
       " 'In',\n",
       " 'It',\n",
       " 'KING',\n",
       " 'King',\n",
       " 'Listen',\n",
       " 'Mercea',\n",
       " 'No',\n",
       " 'Not',\n",
       " 'Oh',\n",
       " 'Patsy',\n",
       " 'Pendragon',\n",
       " 'Please',\n",
       " 'Pull',\n",
       " 'Ridden',\n",
       " 'SCENE',\n",
       " 'SOLDIER',\n",
       " 'Saxons',\n",
       " 'So',\n",
       " 'Supposing',\n",
       " 'That',\n",
       " 'The',\n",
       " 'They',\n",
       " 'Uther',\n",
       " 'Wait',\n",
       " 'We',\n",
       " 'Well',\n",
       " 'What',\n",
       " 'Where',\n",
       " 'Who',\n",
       " 'Whoa',\n",
       " 'Will',\n",
       " 'Yes',\n",
       " 'You',\n",
       " '[',\n",
       " ']',\n",
       " 'a',\n",
       " 'agree',\n",
       " 'air-speed',\n",
       " 'all',\n",
       " 'am',\n",
       " 'an',\n",
       " 'and',\n",
       " 'anyway',\n",
       " 'are',\n",
       " 'ask',\n",
       " 'at',\n",
       " 'back',\n",
       " 'bangin',\n",
       " 'be',\n",
       " 'beat',\n",
       " 'bird',\n",
       " 'breadth',\n",
       " 'bring',\n",
       " 'but',\n",
       " 'by',\n",
       " 'carried',\n",
       " 'carry',\n",
       " 'carrying',\n",
       " 'castle',\n",
       " 'climes',\n",
       " 'clop',\n",
       " 'coconut',\n",
       " 'coconuts',\n",
       " 'could',\n",
       " 'course',\n",
       " 'court',\n",
       " 'covered',\n",
       " 'creeper',\n",
       " 'defeator',\n",
       " 'do',\n",
       " 'does',\n",
       " 'dorsal',\n",
       " 'empty',\n",
       " 'every',\n",
       " 'feathers',\n",
       " 'five',\n",
       " 'fly',\n",
       " 'forty-three',\n",
       " 'found',\n",
       " 'from',\n",
       " 'get',\n",
       " 'go',\n",
       " 'goes',\n",
       " 'got',\n",
       " 'grip',\n",
       " 'grips',\n",
       " 'guiding',\n",
       " 'halves',\n",
       " 'have',\n",
       " 'he',\n",
       " 'held',\n",
       " 'here',\n",
       " 'horse',\n",
       " 'house',\n",
       " 'husk',\n",
       " 'if',\n",
       " 'in',\n",
       " 'interested',\n",
       " 'is',\n",
       " 'it',\n",
       " 'its',\n",
       " 'join',\n",
       " 'just',\n",
       " 'kingdom',\n",
       " 'knights',\n",
       " 'land',\n",
       " 'length',\n",
       " 'line',\n",
       " 'lord',\n",
       " 'maintain',\n",
       " 'martin',\n",
       " 'master',\n",
       " 'matter',\n",
       " 'may',\n",
       " 'maybe',\n",
       " 'me',\n",
       " 'mean',\n",
       " 'migrate',\n",
       " 'minute',\n",
       " 'must',\n",
       " 'my',\n",
       " \"n't\",\n",
       " 'needs',\n",
       " 'non-migratory',\n",
       " 'not',\n",
       " 'of',\n",
       " 'on',\n",
       " 'one',\n",
       " 'or',\n",
       " 'order',\n",
       " 'other',\n",
       " 'ounce',\n",
       " 'our',\n",
       " 'plover',\n",
       " 'point',\n",
       " 'pound',\n",
       " 'question',\n",
       " 'ratios',\n",
       " 'ridden',\n",
       " 'right',\n",
       " 'search',\n",
       " 'second',\n",
       " 'seek',\n",
       " 'servant',\n",
       " 'simple',\n",
       " 'since',\n",
       " 'snows',\n",
       " 'son',\n",
       " 'south',\n",
       " 'sovereign',\n",
       " 'speak',\n",
       " 'strand',\n",
       " 'strangers',\n",
       " 'suggesting',\n",
       " 'sun',\n",
       " 'swallow',\n",
       " 'swallows',\n",
       " 'tell',\n",
       " 'temperate',\n",
       " 'that',\n",
       " 'the',\n",
       " 'them',\n",
       " 'then',\n",
       " 'there',\n",
       " 'these',\n",
       " 'they',\n",
       " 'this',\n",
       " 'through',\n",
       " 'times',\n",
       " 'to',\n",
       " 'together',\n",
       " 'tropical',\n",
       " 'trusty',\n",
       " 'two',\n",
       " 'under',\n",
       " 'use',\n",
       " 'using',\n",
       " 'velocity',\n",
       " 'wants',\n",
       " 'warmer',\n",
       " 'weight',\n",
       " 'where',\n",
       " 'who',\n",
       " 'why',\n",
       " 'will',\n",
       " 'wind',\n",
       " 'wings',\n",
       " 'winter',\n",
       " 'with',\n",
       " 'yeah',\n",
       " 'yet',\n",
       " 'you',\n",
       " 'your',\n",
       " 'zone'}"
      ]
     },
     "execution_count": 26,
     "metadata": {},
     "output_type": "execute_result"
    }
   ],
   "source": [
    "#find unique words of text\n",
    "unique_words=set(word_tokenize(text))\n",
    "unique_words"
   ]
  },
  {
   "cell_type": "code",
   "execution_count": 32,
   "metadata": {},
   "outputs": [
    {
     "name": "stdout",
     "output_type": "stream",
     "text": [
      "773 780\n"
     ]
    }
   ],
   "source": [
    "#search a word in text and print start and end of word\n",
    "search=re.search('kingdom',text)\n",
    "print(search.start(), search.end())"
   ]
  },
  {
   "cell_type": "code",
   "execution_count": 35,
   "metadata": {},
   "outputs": [
    {
     "data": {
      "text/plain": [
       "<re.Match object; span=(9, 32), match='[wind] [clop clop clop]'>"
      ]
     },
     "execution_count": 35,
     "metadata": {},
     "output_type": "execute_result"
    }
   ],
   "source": [
    "#search anything in square brackets\n",
    "re.search(\"\\[.*]\", text)"
   ]
  },
  {
   "cell_type": "code",
   "execution_count": 48,
   "metadata": {},
   "outputs": [
    {
     "data": {
      "image/png": "[encoded data removed]",
      "text/plain": [
       "<Figure size 432x288 with 1 Axes>"
      ]
     },
     "metadata": {},
     "output_type": "display_data"
    }
   ],
   "source": [
    "lens=[len(w) for w in words]\n",
    "sns.set()\n",
    "plt.hist(lens)\n",
    "plt.xlabel('Count of symbols')\n",
    "plt.ylabel('Count of tokens')\n",
    "plt.show()"
   ]
  },
  {
   "cell_type": "code",
   "execution_count": 60,
   "metadata": {},
   "outputs": [
    {
     "data": {
      "text/plain": [
       "Counter({'SCENE': 1,\n",
       "         '1': 19,\n",
       "         ':': 40,\n",
       "         '[': 4,\n",
       "         'wind': 1,\n",
       "         ']': 4,\n",
       "         'clop': 9,\n",
       "         'KING': 1,\n",
       "         'ARTHUR': 15,\n",
       "         'Whoa': 1,\n",
       "         'there': 2,\n",
       "         '!': 17,\n",
       "         'SOLDIER': 24,\n",
       "         '#': 24,\n",
       "         'Halt': 1,\n",
       "         'Who': 1,\n",
       "         'goes': 1,\n",
       "         '?': 19,\n",
       "         'It': 5,\n",
       "         'is': 4,\n",
       "         'I': 6,\n",
       "         ',': 23,\n",
       "         'Arthur': 2,\n",
       "         'son': 1,\n",
       "         'of': 15,\n",
       "         'Uther': 1,\n",
       "         'Pendragon': 1,\n",
       "         'from': 2,\n",
       "         'the': 15,\n",
       "         'castle': 1,\n",
       "         'Camelot': 4,\n",
       "         '.': 18,\n",
       "         'King': 1,\n",
       "         'Britons': 1,\n",
       "         'defeator': 1,\n",
       "         'Saxons': 1,\n",
       "         'sovereign': 1,\n",
       "         'all': 2,\n",
       "         'England': 1,\n",
       "         'Pull': 1,\n",
       "         'other': 1,\n",
       "         'one': 2,\n",
       "         'am': 1,\n",
       "         '...': 3,\n",
       "         'and': 5,\n",
       "         'this': 3,\n",
       "         'my': 4,\n",
       "         'trusty': 1,\n",
       "         'servant': 1,\n",
       "         'Patsy': 1,\n",
       "         'We': 3,\n",
       "         'have': 4,\n",
       "         'ridden': 2,\n",
       "         'length': 1,\n",
       "         'breadth': 1,\n",
       "         'land': 3,\n",
       "         'in': 3,\n",
       "         'search': 1,\n",
       "         'knights': 1,\n",
       "         'who': 1,\n",
       "         'will': 1,\n",
       "         'join': 2,\n",
       "         'me': 1,\n",
       "         'court': 2,\n",
       "         'at': 3,\n",
       "         'must': 1,\n",
       "         'speak': 1,\n",
       "         'with': 3,\n",
       "         'your': 3,\n",
       "         'lord': 1,\n",
       "         'master': 3,\n",
       "         'What': 5,\n",
       "         'Ridden': 1,\n",
       "         'on': 2,\n",
       "         'a': 13,\n",
       "         'horse': 1,\n",
       "         'Yes': 1,\n",
       "         'You': 2,\n",
       "         \"'re\": 2,\n",
       "         'using': 1,\n",
       "         'coconuts': 3,\n",
       "         \"'ve\": 1,\n",
       "         'got': 1,\n",
       "         'two': 2,\n",
       "         'empty': 1,\n",
       "         'halves': 1,\n",
       "         'coconut': 5,\n",
       "         'you': 6,\n",
       "         'bangin': 1,\n",
       "         \"'\": 1,\n",
       "         \"'em\": 1,\n",
       "         'together': 2,\n",
       "         'So': 2,\n",
       "         'since': 1,\n",
       "         'snows': 1,\n",
       "         'winter': 2,\n",
       "         'covered': 1,\n",
       "         'through': 2,\n",
       "         'kingdom': 1,\n",
       "         'Mercea': 2,\n",
       "         '--': 2,\n",
       "         'Where': 1,\n",
       "         \"'d\": 3,\n",
       "         'get': 1,\n",
       "         'found': 1,\n",
       "         'them': 2,\n",
       "         'Found': 1,\n",
       "         'In': 2,\n",
       "         'The': 2,\n",
       "         \"'s\": 4,\n",
       "         'tropical': 1,\n",
       "         'do': 1,\n",
       "         'mean': 1,\n",
       "         'Well': 4,\n",
       "         'temperate': 1,\n",
       "         'zone': 1,\n",
       "         'swallow': 6,\n",
       "         'may': 2,\n",
       "         'fly': 1,\n",
       "         'south': 1,\n",
       "         'sun': 1,\n",
       "         'or': 2,\n",
       "         'house': 1,\n",
       "         'martin': 1,\n",
       "         'plover': 1,\n",
       "         'seek': 1,\n",
       "         'warmer': 1,\n",
       "         'climes': 1,\n",
       "         'yet': 1,\n",
       "         'these': 1,\n",
       "         'are': 2,\n",
       "         'not': 6,\n",
       "         'strangers': 1,\n",
       "         'to': 5,\n",
       "         'our': 1,\n",
       "         'Are': 1,\n",
       "         'suggesting': 1,\n",
       "         'migrate': 1,\n",
       "         'Not': 1,\n",
       "         'They': 2,\n",
       "         'could': 5,\n",
       "         'be': 2,\n",
       "         'carried': 3,\n",
       "         'A': 2,\n",
       "         'carrying': 1,\n",
       "         'grip': 1,\n",
       "         'it': 5,\n",
       "         'by': 2,\n",
       "         'husk': 1,\n",
       "         'question': 2,\n",
       "         'where': 1,\n",
       "         'he': 2,\n",
       "         'grips': 1,\n",
       "         'simple': 2,\n",
       "         'weight': 1,\n",
       "         'ratios': 1,\n",
       "         'five': 1,\n",
       "         'ounce': 1,\n",
       "         'bird': 1,\n",
       "         'carry': 1,\n",
       "         'pound': 1,\n",
       "         'does': 1,\n",
       "         \"n't\": 2,\n",
       "         'matter': 1,\n",
       "         'Will': 2,\n",
       "         'go': 1,\n",
       "         'tell': 1,\n",
       "         'that': 2,\n",
       "         'Court': 1,\n",
       "         'here': 1,\n",
       "         'Listen': 1,\n",
       "         'order': 1,\n",
       "         'maintain': 1,\n",
       "         'air-speed': 1,\n",
       "         'velocity': 1,\n",
       "         'needs': 1,\n",
       "         'beat': 1,\n",
       "         'its': 1,\n",
       "         'wings': 1,\n",
       "         'forty-three': 1,\n",
       "         'times': 1,\n",
       "         'every': 1,\n",
       "         'second': 1,\n",
       "         'right': 2,\n",
       "         'Please': 1,\n",
       "         'Am': 1,\n",
       "         \"'m\": 1,\n",
       "         'interested': 1,\n",
       "         '2': 6,\n",
       "         'an': 2,\n",
       "         'African': 3,\n",
       "         'Oh': 3,\n",
       "         'yeah': 3,\n",
       "         'maybe': 1,\n",
       "         'but': 1,\n",
       "         'European': 1,\n",
       "         'That': 1,\n",
       "         'point': 1,\n",
       "         'agree': 1,\n",
       "         'ask': 1,\n",
       "         'if': 1,\n",
       "         'wants': 1,\n",
       "         'But': 1,\n",
       "         'then': 1,\n",
       "         'course': 1,\n",
       "         'swallows': 2,\n",
       "         'non-migratory': 1,\n",
       "         'they': 2,\n",
       "         'bring': 1,\n",
       "         'back': 1,\n",
       "         'anyway': 1,\n",
       "         'Wait': 1,\n",
       "         'minute': 1,\n",
       "         'Supposing': 1,\n",
       "         'No': 1,\n",
       "         'line': 1,\n",
       "         'just': 1,\n",
       "         'use': 1,\n",
       "         'strand': 1,\n",
       "         'creeper': 1,\n",
       "         'held': 1,\n",
       "         'under': 1,\n",
       "         'dorsal': 1,\n",
       "         'guiding': 1,\n",
       "         'feathers': 1,\n",
       "         'why': 1})"
      ]
     },
     "execution_count": 60,
     "metadata": {},
     "output_type": "execute_result"
    }
   ],
   "source": [
    "count=Counter(word_tokenize(text))\n",
    "count"
   ]
  },
  {
   "cell_type": "code",
   "execution_count": 62,
   "metadata": {},
   "outputs": [
    {
     "data": {
      "text/plain": [
       "[(':', 40), ('SOLDIER', 24), ('#', 24), (',', 23), ('1', 19)]"
      ]
     },
     "execution_count": 62,
     "metadata": {},
     "output_type": "execute_result"
    }
   ],
   "source": [
    "count.most_common(5)"
   ]
  }
 ],
 "metadata": {
  "kernelspec": {
   "display_name": "Python 3",
   "language": "python",
   "name": "python3"
  },
  "language_info": {
   "codemirror_mode": {
    "name": "ipython",
    "version": 3
   },
   "file_extension": ".py",
   "mimetype": "text/x-python",
   "name": "python",
   "nbconvert_exporter": "python",
   "pygments_lexer": "ipython3",
   "version": "3.8.5"
  }
 },
 "nbformat": 4,
 "nbformat_minor": 4
}
