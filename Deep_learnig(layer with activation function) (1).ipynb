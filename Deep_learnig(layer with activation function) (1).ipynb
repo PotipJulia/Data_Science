{
 "cells": [
  {
   "cell_type": "code",
   "execution_count": 1,
   "metadata": {},
   "outputs": [],
   "source": [
    "import numpy as np\n",
    "import pandas as pd"
   ]
  },
  {
   "cell_type": "markdown",
   "metadata": {},
   "source": [
    "# One layer with calculating input and output  with activation function ReLU, and custom numbers of output nodes"
   ]
  },
  {
   "cell_type": "code",
   "execution_count": 129,
   "metadata": {},
   "outputs": [],
   "source": [
    "def dense_layer(input_value,weights, num_of_output_nodes=1):\n",
    "    #all function values to arrays\n",
    "    input_value=np.array(input_value)\n",
    "    weights=np.array(weights)\n",
    "    # if number of output nodes is equal or more then 2\n",
    "    if num_of_output_nodes>=2:\n",
    "        #empty list for storing output results\n",
    "        output_many_nodes=[]\n",
    "        input_many_nodes=[]\n",
    "        # get weights of each node\n",
    "        for i in weights:\n",
    "            #calculate input\n",
    "            input_layer=(input_value*i).sum()\n",
    "            input_many_nodes.append(input_layer)\n",
    "            # apply an activation function to calculate output\n",
    "            output=relu(input_layer) \n",
    "            output_many_nodes.append(output)\n",
    "        return('Input of layer:',input_many_nodes,'Output of layer:',output_many_nodes)\n",
    "    #for else case, where number of output nodes is 1\n",
    "    else:\n",
    "        input_layer=(input_value*weights).sum()\n",
    "        output=relu(input_layer)\n",
    "        return ('Input of layer:',input_layer,'Output of layer:',output)"
   ]
  },
  {
   "cell_type": "markdown",
   "metadata": {},
   "source": [
    "# Activation function ReLU"
   ]
  },
  {
   "cell_type": "code",
   "execution_count": 41,
   "metadata": {},
   "outputs": [],
   "source": [
    "def relu(input_value):\n",
    "    relu=max(input_value,0)\n",
    "    return relu"
   ]
  },
  {
   "cell_type": "markdown",
   "metadata": {},
   "source": [
    "#### Example of 2 inputs and 1 output nodes"
   ]
  },
  {
   "cell_type": "code",
   "execution_count": 127,
   "metadata": {},
   "outputs": [
    {
     "data": {
      "text/plain": [
       "('Input of layer:', -11, 'Output of layer:', 0)"
      ]
     },
     "execution_count": 127,
     "metadata": {},
     "output_type": "execute_result"
    }
   ],
   "source": [
    "dense_layer([1,-4],[1,3])"
   ]
  },
  {
   "cell_type": "markdown",
   "metadata": {},
   "source": [
    "#### Example of 2 inputs and 3 output nodes"
   ]
  },
  {
   "cell_type": "code",
   "execution_count": 131,
   "metadata": {},
   "outputs": [
    {
     "data": {
      "text/plain": [
       "('Input of layer:', [-14, 5, -3], 'Output of layer:', [0, 5, 0])"
      ]
     },
     "execution_count": 131,
     "metadata": {},
     "output_type": "execute_result"
    }
   ],
   "source": [
    "dense_layer([1,5],[[1,-3],[0,1],[2,-1]],3)"
   ]
  }
 ],
 "metadata": {
  "kernelspec": {
   "display_name": "Python 3",
   "language": "python",
   "name": "python3"
  },
  "language_info": {
   "codemirror_mode": {
    "name": "ipython",
    "version": 3
   },
   "file_extension": ".py",
   "mimetype": "text/x-python",
   "name": "python",
   "nbconvert_exporter": "python",
   "pygments_lexer": "ipython3",
   "version": "3.8.4"
  }
 },
 "nbformat": 4,
 "nbformat_minor": 4
}
